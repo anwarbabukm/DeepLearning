{
  "nbformat": 4,
  "nbformat_minor": 0,
  "metadata": {
    "colab": {
      "name": "IMDB Review Sentiment using RNN LSTM.ipynb",
      "provenance": [],
      "authorship_tag": "ABX9TyPeYOlg+2X436dB5/+k36nk",
      "include_colab_link": true
    },
    "kernelspec": {
      "name": "python3",
      "display_name": "Python 3"
    }
  },
  "cells": [
    {
      "cell_type": "markdown",
      "metadata": {
        "id": "view-in-github",
        "colab_type": "text"
      },
      "source": [
        "<a href=\"https://colab.research.google.com/github/anwarbabukm/DeepLearning/blob/main/IMDB_Review_Sentiment_using_RNN_LSTM.ipynb\" target=\"_parent\"><img src=\"https://colab.research.google.com/assets/colab-badge.svg\" alt=\"Open In Colab\"/></a>"
      ]
    },
    {
      "cell_type": "code",
      "metadata": {
        "id": "wkMet7AjsBlD"
      },
      "source": [
        "import numpy as np\n",
        "import matplotlib.pyplot as plt\n",
        "import tensorflow as tf\n",
        "\n",
        "from tensorflow.keras.datasets import imdb\n",
        "from tensorflow.keras.preprocessing.sequence import pad_sequences"
      ],
      "execution_count": 1,
      "outputs": []
    },
    {
      "cell_type": "code",
      "metadata": {
        "id": "G2uDxoqCsJCV",
        "outputId": "7ecec61c-67e6-4918-dd89-81dcb17dd6bc",
        "colab": {
          "base_uri": "https://localhost:8080/",
          "height": 54
        }
      },
      "source": [
        "(X_train, y_train), (X_test, y_test) = imdb.load_data(num_words = 20000)"
      ],
      "execution_count": 2,
      "outputs": [
        {
          "output_type": "stream",
          "text": [
            "Downloading data from https://storage.googleapis.com/tensorflow/tf-keras-datasets/imdb.npz\n",
            "17465344/17464789 [==============================] - 0s 0us/step\n"
          ],
          "name": "stdout"
        }
      ]
    },
    {
      "cell_type": "code",
      "metadata": {
        "id": "w1nVKgn7sLrx",
        "outputId": "5893b467-3d1c-49d9-c2f0-7ffce945dafe",
        "colab": {
          "base_uri": "https://localhost:8080/",
          "height": 35
        }
      },
      "source": [
        "X_train[0][:5]"
      ],
      "execution_count": 3,
      "outputs": [
        {
          "output_type": "execute_result",
          "data": {
            "text/plain": [
              "[1, 14, 22, 16, 43]"
            ]
          },
          "metadata": {
            "tags": []
          },
          "execution_count": 3
        }
      ]
    },
    {
      "cell_type": "code",
      "metadata": {
        "id": "OyMxFhdbsTTQ"
      },
      "source": [
        "X_train = pad_sequences(X_train, maxlen = 100)\n",
        "X_test = pad_sequences(X_test, maxlen=100)"
      ],
      "execution_count": 4,
      "outputs": []
    },
    {
      "cell_type": "code",
      "metadata": {
        "id": "kBd99rqEsVOn",
        "outputId": "d221da45-208d-4896-8e26-a16c401cf5e0",
        "colab": {
          "base_uri": "https://localhost:8080/",
          "height": 35
        }
      },
      "source": [
        "X_train.shape"
      ],
      "execution_count": 5,
      "outputs": [
        {
          "output_type": "execute_result",
          "data": {
            "text/plain": [
              "(25000, 100)"
            ]
          },
          "metadata": {
            "tags": []
          },
          "execution_count": 5
        }
      ]
    },
    {
      "cell_type": "code",
      "metadata": {
        "id": "PfNOwOViseTo"
      },
      "source": [
        "vocab_size = 20000\n",
        "embed_size = 128\n",
        "\n"
      ],
      "execution_count": 6,
      "outputs": []
    },
    {
      "cell_type": "code",
      "metadata": {
        "id": "P6yi4ss_sgsX"
      },
      "source": [
        "from tensorflow.keras import Sequential\n",
        "from tensorflow.keras.layers import LSTM, Dropout, Dense, Embedding"
      ],
      "execution_count": 7,
      "outputs": []
    },
    {
      "cell_type": "code",
      "metadata": {
        "id": "xX3vzb1Rsiwn"
      },
      "source": [
        "model = Sequential()\n",
        "model.add(Embedding(vocab_size, embed_size, input_shape = (X_train.shape[1],)))\n",
        "model.add(LSTM(units=60, activation='tanh'))\n",
        "\n",
        "model.add(Dense(units=1, activation='sigmoid'))\n",
        "\n",
        "model.compile(optimizer='adam', loss='binary_crossentropy', metrics = ['accuracy'])"
      ],
      "execution_count": 8,
      "outputs": []
    },
    {
      "cell_type": "code",
      "metadata": {
        "id": "4ac4W-5PsqeR",
        "outputId": "b680e6cb-88ac-491a-fd67-7ace3037dcc1",
        "colab": {
          "base_uri": "https://localhost:8080/",
          "height": 274
        }
      },
      "source": [
        "model.summary()"
      ],
      "execution_count": 9,
      "outputs": [
        {
          "output_type": "stream",
          "text": [
            "Model: \"sequential\"\n",
            "_________________________________________________________________\n",
            "Layer (type)                 Output Shape              Param #   \n",
            "=================================================================\n",
            "embedding (Embedding)        (None, 100, 128)          2560000   \n",
            "_________________________________________________________________\n",
            "lstm (LSTM)                  (None, 60)                45360     \n",
            "_________________________________________________________________\n",
            "dense (Dense)                (None, 1)                 61        \n",
            "=================================================================\n",
            "Total params: 2,605,421\n",
            "Trainable params: 2,605,421\n",
            "Non-trainable params: 0\n",
            "_________________________________________________________________\n"
          ],
          "name": "stdout"
        }
      ]
    },
    {
      "cell_type": "code",
      "metadata": {
        "id": "jumKd1uws0fk",
        "outputId": "a0822e62-e08a-4886-9553-f644a3b3ef14",
        "colab": {
          "base_uri": "https://localhost:8080/",
          "height": 384
        }
      },
      "source": [
        "history = model.fit(X_train, y_train, epochs=10, batch_size=128, validation_data=(X_test, y_test))"
      ],
      "execution_count": 10,
      "outputs": [
        {
          "output_type": "stream",
          "text": [
            "Epoch 1/10\n",
            "196/196 [==============================] - 51s 258ms/step - loss: 0.4245 - accuracy: 0.8015 - val_loss: 0.3446 - val_accuracy: 0.8490\n",
            "Epoch 2/10\n",
            "196/196 [==============================] - 50s 255ms/step - loss: 0.2344 - accuracy: 0.9087 - val_loss: 0.3837 - val_accuracy: 0.8444\n",
            "Epoch 3/10\n",
            "196/196 [==============================] - 50s 257ms/step - loss: 0.1472 - accuracy: 0.9482 - val_loss: 0.5031 - val_accuracy: 0.8327\n",
            "Epoch 4/10\n",
            "196/196 [==============================] - 51s 259ms/step - loss: 0.0901 - accuracy: 0.9692 - val_loss: 0.4836 - val_accuracy: 0.8359\n",
            "Epoch 5/10\n",
            "196/196 [==============================] - 50s 257ms/step - loss: 0.0661 - accuracy: 0.9784 - val_loss: 0.7153 - val_accuracy: 0.8175\n",
            "Epoch 6/10\n",
            "196/196 [==============================] - 52s 264ms/step - loss: 0.0504 - accuracy: 0.9833 - val_loss: 0.7653 - val_accuracy: 0.8238\n",
            "Epoch 7/10\n",
            "196/196 [==============================] - 50s 253ms/step - loss: 0.0315 - accuracy: 0.9904 - val_loss: 0.7267 - val_accuracy: 0.8273\n",
            "Epoch 8/10\n",
            "196/196 [==============================] - 50s 255ms/step - loss: 0.0247 - accuracy: 0.9922 - val_loss: 0.7851 - val_accuracy: 0.8229\n",
            "Epoch 9/10\n",
            "196/196 [==============================] - 50s 254ms/step - loss: 0.0313 - accuracy: 0.9903 - val_loss: 0.9438 - val_accuracy: 0.8212\n",
            "Epoch 10/10\n",
            "196/196 [==============================] - 50s 255ms/step - loss: 0.0419 - accuracy: 0.9866 - val_loss: 0.8078 - val_accuracy: 0.8261\n"
          ],
          "name": "stdout"
        }
      ]
    },
    {
      "cell_type": "code",
      "metadata": {
        "id": "2DszgN2Ts4vS",
        "outputId": "69a279ec-9a6a-4b4d-dcf9-337beba2a27b",
        "colab": {
          "base_uri": "https://localhost:8080/",
          "height": 573
        }
      },
      "source": [
        "def plot_learningCurve(history, epochs):\n",
        "  # Plot training & validation accuracy values\n",
        "  epoch_range = range(1, epochs+1)\n",
        "  plt.plot(epoch_range, history.history['accuracy'])\n",
        "  plt.plot(epoch_range, history.history['val_accuracy'])\n",
        "  plt.title('Model accuracy')\n",
        "  plt.ylabel('Accuracy')\n",
        "  plt.xlabel('Epoch')\n",
        "  plt.legend(['Train', 'Val'], loc='upper left')\n",
        "  plt.show()\n",
        "\n",
        "  # Plot training & validation loss values\n",
        "  plt.plot(epoch_range, history.history['loss'])\n",
        "  plt.plot(epoch_range, history.history['val_loss'])\n",
        "  plt.title('Model loss')\n",
        "  plt.ylabel('Loss')\n",
        "  plt.xlabel('Epoch')\n",
        "  plt.legend(['Train', 'Val'], loc='upper left')\n",
        "  plt.show()\n",
        "\n",
        "plot_learningCurve(history, 10)"
      ],
      "execution_count": 11,
      "outputs": [
        {
          "output_type": "display_data",
          "data": {
            "image/png": "[encoded data removed]",
            "text/plain": [
              "<Figure size 432x288 with 1 Axes>"
            ]
          },
          "metadata": {
            "tags": [],
            "needs_background": "light"
          }
        },
        {
          "output_type": "display_data",
          "data": {
            "image/png": "[encoded data removed]",
            "text/plain": [
              "<Figure size 432x288 with 1 Axes>"
            ]
          },
          "metadata": {
            "tags": [],
            "needs_background": "light"
          }
        }
      ]
    },
    {
      "cell_type": "code",
      "metadata": {
        "id": "LfI9J4m5tFU5"
      },
      "source": [
        ""
      ],
      "execution_count": null,
      "outputs": []
    }
  ]
}